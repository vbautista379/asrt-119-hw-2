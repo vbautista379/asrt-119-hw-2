{
 "cells": [
  {
   "cell_type": "code",
   "execution_count": null,
   "metadata": {},
   "outputs": [],
   "source": [
    "%matplotlib inline\n",
    "import numpy as np\n",
    "import matplotlib.pyplot as plt"
   ]
  },
  {
   "cell_type": "markdown",
   "metadata": {},
   "source": [
    "a) y(x) = 5.5 cos(2*x) + 5.5\n",
    "\n",
    "b) y(x) = 0.02*exp(x)\n",
    "\n",
    "c) y(x) = 0.25*x^2 + 0.1 sin(10*x)\n",
    "\n",
    "x running x = [0,2*pi] inclusive with 1000 values\n",
    "\n",
    "x range x = [0,2*pi] and y range [-1,10]"
   ]
  },
  {
   "cell_type": "code",
   "execution_count": null,
   "metadata": {},
   "outputs": [],
   "source": [
    "npoints = 1000\n",
    "x = np.arange(0, 2*np.pi, npoints)\n",
    "\n",
    "print(np.cos(x))\n",
    "y = 5.5*np.cos(2*x) + 5.5\n",
    "print(np.exp(x))\n",
    "y = 0.02*np.exp(x)\n",
    "print(np.sin(x))\n",
    "y = 0.25*x^2 + 0.1*np.sin(10*x)\n",
    "\n",
    "plt.xlim(0,2*np.pi)\n",
    "plt.ylim(-1,10)\n",
    "plt.plot(x,y)\n",
    "plt.xlabel('Measures of Awesomeness')\n",
    "plt.ylabel('Time in Astr / Eart 119')\n",
    "plt.show()"
   ]
  },
  {
   "cell_type": "code",
   "execution_count": null,
   "metadata": {},
   "outputs": [],
   "source": []
  }
 ],
 "metadata": {
  "kernelspec": {
   "display_name": "Python 3",
   "language": "python",
   "name": "python3"
  },
  "language_info": {
   "codemirror_mode": {
    "name": "ipython",
    "version": 3
   },
   "file_extension": ".py",
   "mimetype": "text/x-python",
   "name": "python",
   "nbconvert_exporter": "python",
   "pygments_lexer": "ipython3",
   "version": "3.7.0"
  }
 },
 "nbformat": 4,
 "nbformat_minor": 2
}
