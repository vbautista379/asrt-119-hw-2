{
 "cells": [
  {
   "cell_type": "code",
   "execution_count": null,
   "metadata": {},
   "outputs": [],
   "source": [
    "%matplotlib inline\n",
    "import numpy as np\n",
    "import matplotlib.pyplot as plt"
   ]
  },
  {
   "cell_type": "markdown",
   "metadata": {},
   "source": [
    "a) y(x) = 5.5 cos(2*x) + 5.5\n",
    "\n",
    "b) y(x) = 0.02*exp(x)\n",
    "\n",
    "c) y(x) = 0.25*x^2 + 0.1 sin(10*x)\n",
    "\n",
    "x running x = [0,2*pi] inclusive with 1000 values\n",
    "\n",
    "x range x = [0,2*pi] and y range [-1,10]"
   ]
  },
  {
   "cell_type": "code",
   "execution_count": null,
   "metadata": {},
   "outputs": [],
   "source": [
    "npoints = 1000\n",
    "x = np.linspace(0, 2*np.pi, npoints)\n",
    "\n",
    "y = 5.5*np.cos(2*x) + 5.5\n",
    "plt.plot(x,y)\n",
    "y = 0.02*np.exp(x)\n",
    "plt.plot(x,y)\n",
    "y = 0.25*x**2 + 0.1*np.sin(10*x)\n",
    "plt.plot(x,y)\n",
    "\n",
    "plt.xlim(0,2*np.pi)\n",
    "plt.ylim(-1,10)\n",
    "plt.plot(x,y)\n",
    "plt.xlabel('Measures of Awesomeness')\n",
    "plt.ylabel('Time in Astr / Eart 119')\n",
    "plt.show()"
   ]
  }
 ],
 "metadata": {
  "kernelspec": {
   "display_name": "Python 3",
   "language": "python",
   "name": "python3"
  },
  "language_info": {
   "codemirror_mode": {
    "name": "ipython",
    "version": 3
   },
   "file_extension": ".py",
   "mimetype": "text/x-python",
   "name": "python",
   "nbconvert_exporter": "python",
   "pygments_lexer": "ipython3",
   "version": "3.7.0"
  }
 },
 "nbformat": 4,
 "nbformat_minor": 2
}
